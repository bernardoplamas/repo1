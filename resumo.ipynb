{
 "cells": [
  {
   "cell_type": "code",
   "execution_count": null,
   "id": "9ea10f4e-1485-49ed-9dcd-dc464b85f4ec",
   "metadata": {},
   "outputs": [],
   "source": [
    "#biblioteca utilizadas para suportar scripts escritos abaixo\n",
    "import datetime\n",
    "import re\n",
    "import locale\n",
    "import pyodbc \n",
    "import pandas as pd\n",
    "import numpy as np\n",
    "import matplotlib.pyplot as plt\n",
    "from scipy.interpolate import make_interp_spline, BSpline\n",
    "import seaborn as sns\n",
    "from matplotlib.dates import DateFormatter\n",
    "from matplotlib.ticker import AutoMinorLocator\n",
    "import sqlalchemy as sa\n",
    "from openpyxl import Workbook\n",
    "from openpyxl.utils.dataframe import dataframe_to_rows"
   ]
  },
  {
   "cell_type": "code",
   "execution_count": null,
   "id": "e70afcdd-8e9f-4a19-8c6f-cce22b8ba245",
   "metadata": {},
   "outputs": [],
   "source": [
    "# Para funcionar o pyodbc é necessário adicionar a seguinte linha no registro\n",
    "\n",
    "cnxn = pyodbc.connect('Driver={SQL Server};'\n",
    "                      'Server=***;'\n",
    "                      'Database=***;'\n",
    "                      'UID=***;'\n",
    "                      'PWD=***;')\n",
    "                      "
   ]
  },
  {
   "cell_type": "code",
   "execution_count": null,
   "id": "7fb79e59-0c6e-4491-96c6-ecf82bb62329",
   "metadata": {},
   "outputs": [],
   "source": [
    "# Verificar a conexão\n",
    "cursor = cnxn.cursor()\n",
    "cursor.execute(\"SELECT @@version;\") \n",
    "row = cursor.fetchone() \n",
    "while row: \n",
    "    print(row[0])\n",
    "    row = cursor.fetchone()"
   ]
  },
  {
   "cell_type": "code",
   "execution_count": null,
   "id": "01964364-d553-45b3-b65a-027f757b9587",
   "metadata": {},
   "outputs": [],
   "source": [
    "# Puxando os dados direto do banco do jazz atraves da query a baixo\n",
    "df = pd.read_sql_query(\"SELECT DISTINCT T1.REFERENCE_ID, T1.CREATION_DATE, T1.RESOLVED_DATE, T2_1.LITERAL_NAME AS LITERAL_NAME, T1.REQUEST_STATE, T1.REQUEST_SEVERITY, T1.TEAM_NAME, FORMAT(CREATION_DATE,'MMM/yyyy')as CRIACAO_FORMAT, FORMAT(RESOLVED_DATE,'MMM/yyyy')as FINAL_FORMAT FROM RIDW.VW_REQUEST T1 LEFT OUTER JOIN RICALM.VW_RQST_STRING_EXT T2 ON T2.REQUEST_ID=T1.REQUEST_ID AND T2.NAME='Sistema' LEFT OUTER JOIN RICALM.REQUEST_ATTRDEF T2_2 ON T2_2.REQUEST_TYPE_ID=T1.REQUEST_TYPE_ID AND T2_2.NAME=T2.NAME LEFT OUTER JOIN RICALM.VW_RQST_ENUMERATION T2_1 ON T2_1.EXTERNAL_ID=T2.VAL AND T2_1.PROJECT_ID=T1.PROJECT_ID AND T2_1.ENUMERATION_NAME=T2_2.DATATYPE WHERE T1.PROJECT_ID = 415  AND (T1.REQUEST_TYPE = 'Incidente' AND T1.CREATION_DATE >= '2021-07-01' ) AND T1.ISSOFTDELETED = 0 AND (T1.REQUEST_ID <> -1 AND T1.REQUEST_ID IS NOT NULL)\", cnxn)\n",
    "df.to_excel(\"Dados_RevistaH.xlsx\")"
   ]
  },
  {
   "cell_type": "code",
   "execution_count": null,
   "id": "d346a88a-8879-44cd-af2b-ff911e4293cc",
   "metadata": {},
   "outputs": [],
   "source": [
    "#algoritimo para utilizar no filtro do mes anterior\n",
    "today=datetime.date.today()\n",
    "first = today.replace(day=1)\n",
    "last_month = first - datetime.timedelta(days=1)\n",
    "fil=(last_month.strftime(\"%b/%Y\"))"
   ]
  },
  {
   "cell_type": "code",
   "execution_count": null,
   "id": "ce84b232-2f00-44c4-9db1-7a52a130989a",
   "metadata": {},
   "outputs": [],
   "source": [
    "# Quantidade total de incidentes abertos desde 01/04/2022 // Indicador 0\n",
    "quant_abertoT=df[df.columns[1]].count()\n",
    "\n",
    "# Imprimindo o resultado\n",
    "quant_abertoT"
   ]
  },
  {
   "cell_type": "code",
   "execution_count": null,
   "id": "6bb413f2-2136-4d28-b1c6-1e6d4a459f61",
   "metadata": {},
   "outputs": [],
   "source": [
    "# substitui os status detalhados por status simples para agregar os dados e posteriormente imprimir a quantidade agregada // importante para o indicador 1\n",
    "df2 = df.replace({'REQUEST_STATE': {'Concluído': 'Fechado', 'Cancelado': 'Fechado', 'Aguardando Execução': 'Backlog', 'Em Execução': 'Backlog', 'Em Homologação' : 'Backlog', 'E _ Aguardando Times Internos' : 'Backlog', 'Aberto' :'Backlog', 'E _ Aguardando Demandante' : 'Backlog' , 'A _ Aguardando Demandante' : 'Backlog', 'E _ Aguardando Fornecedor':'Backlog'}}).copy()\n",
    "\n",
    "# Agrupa as linhas da coluna [REFERENCE_ID] por mês utilizando a coluna [CREATION_DATE] demonstrando a quantidade de incidentes fechados e backlog por mes// Indicador 1\n",
    "opcl=df2\n",
    "opcl = opcl[opcl['REQUEST_STATE'].isin(['Fechado'])]\n",
    "fechadoT = opcl.groupby(['REQUEST_STATE']).count()['REFERENCE_ID']\n",
    "\n",
    "# Imprimindo o resultado\n",
    "fechadoT\n",
    "\n"
   ]
  },
  {
   "cell_type": "code",
   "execution_count": null,
   "id": "39a93e8e-6e49-4de9-93e2-9c0681d92a9d",
   "metadata": {},
   "outputs": [],
   "source": [
    "df_last = df[(df[\"CRIACAO_FORMAT\"] == last_month.strftime(\"%b/%Y\"))]\n",
    "# Agrupa as linhas da coluna [REFERENCE_ID] por mês utilizando a coluna [CREATION_DATE] demonstrando a quantidade de incidentes abertos por mes// Indicador 1\n",
    "abertoM = df_last.groupby(df['CRIACAO_FORMAT'])['REFERENCE_ID'].count()\n",
    "\n",
    "# Imprimindo o resultado\n",
    "abertoM"
   ]
  },
  {
   "cell_type": "code",
   "execution_count": null,
   "id": "f41738f2-9aef-419d-8bc3-82eb5820f13a",
   "metadata": {},
   "outputs": [],
   "source": [
    "# substitui os status detalhados por status simples para agregar os dados e posteriormente imprimir a quantidade agregada // importante para o indicador 1\n",
    "df2 = df.replace({'REQUEST_STATE': {'Concluído': 'Fechado', 'Cancelado': 'Fechado', 'Aguardando Execução': 'Backlog', 'Em Execução': 'Backlog', 'Em Homologação' : 'Backlog', 'E _ Aguardando Times Internos' : 'Backlog', 'Aberto' :'Backlog', 'E _ Aguardando Demandante' : 'Backlog' , 'A _ Aguardando Demandante' : 'Backlog', 'E _ Aguardando Fornecedor':'Backlog'}}).copy()\n",
    "df_last = df2[(df2[\"FINAL_FORMAT\"] == last_month.strftime(\"%b/%Y\"))]\n",
    "# Agrupa as linhas da coluna [REFERENCE_ID] por mês utilizando a coluna [CREATION_DATE] demonstrando a quantidade de incidentes fechados e backlog por mes// Indicador 1\n",
    "opcl=df_last\n",
    "fechadoM = opcl.groupby([df_last['FINAL_FORMAT'], 'REQUEST_STATE']).count()['REFERENCE_ID']\n",
    "\n",
    "# Imprimindo o resultado\n",
    "fechadoM"
   ]
  },
  {
   "cell_type": "code",
   "execution_count": null,
   "id": "23de84d4-c8d1-4b6e-9bb6-f3af348b2ab9",
   "metadata": {},
   "outputs": [],
   "source": [
    "opcl=df2\n",
    "Backlog = opcl[opcl['REQUEST_STATE'].isin(['Backlog'])]\n",
    "\n",
    "Backlog1 = Backlog.groupby(['REQUEST_STATE']).count()['REFERENCE_ID']\n",
    "\n",
    "# Imprimindo o resultado\n",
    "Backlog1"
   ]
  },
  {
   "cell_type": "code",
   "execution_count": null,
   "id": "bbce28e9-4bdd-4792-aeec-46ba405bbeb8",
   "metadata": {},
   "outputs": [],
   "source": [
    "backlog_st = df\n",
    "backlog_st0 = backlog_st.replace({'REQUEST_STATE': {'Aguardando Execução': 'Backlog', 'Em Execução': 'Em andamento', 'Em Homologação' : 'Pendentes Validação', 'Em Validação' : 'Pendentes Validação', 'E _ Aguardando Times Internos' : 'Pendentes Outros', 'Aberto' :'Backlog', 'E _ Aguardando Demandante' : 'Pendentes Outros' , 'E _ Aguardando Fornecedor':'Pendentes Outros'}})\n",
    "backlog_st0 = backlog_st0[(backlog_st0[\"REQUEST_STATE\"] != \"Concluído\") & (backlog_st0[\"REQUEST_STATE\"] != \"Cancelado\")]\n",
    "\n",
    "\n",
    "# Agrupando as linhas selecionadas por status e contando a quantidade de requisições\n",
    "backlog_st0 = backlog_st0.groupby('REQUEST_STATE')['REFERENCE_ID'].count()\n",
    "\n",
    "# Imprime o resultado de forma ascendente(do maior para o menor)\n",
    "print(backlog_st0.sort_values(ascending=False))"
   ]
  },
  {
   "cell_type": "code",
   "execution_count": null,
   "id": "a396c857-f359-43cf-a49f-b18952a9cf88",
   "metadata": {},
   "outputs": [],
   "source": [
    "#algoritimo para utilizar no filtro do mes anterior\n",
    "today=datetime.date.today()\n",
    "first = today.replace(day=1)\n",
    "last_month = first - datetime.timedelta(days=1)\n",
    "fil=(last_month.strftime(\"%b/%Y\"))\n",
    "\n",
    "df_last = df[(df[\"CRIACAO_FORMAT\"] == last_month.strftime(\"%b/%Y\"))]\n",
    "\n",
    "backlog_st1 = df_last\n",
    "backlog_st1 = backlog_st1.replace({'REQUEST_STATE': {'Aguardando Execução': 'Backlog', 'Em Execução': 'Em andamento', 'Em Homologação' : 'Pendentes Validação', 'Em Validação' : 'Pendentes Validação', 'E _ Aguardando Times Internos' : 'Pendentes Outros', 'Aberto' :'Backlog', 'E _ Aguardando Demandante' : 'Pendentes Outros' , 'E _ Aguardando Fornecedor':'Pendentes Outros'}})\n",
    "#backlog_st = backlog_st[(backlog_st[\"REQUEST_STATE\"] != \"Concluído\") & (backlog_st[\"REQUEST_STATE\"] != \"Cancelado\")]\n",
    "# Agrupando as linhas selecionadas por status e contando a quantidade de requisições\n",
    "backlog_st1 = backlog_st1.groupby([df_last['CRIACAO_FORMAT'], 'REQUEST_STATE']).count()['REFERENCE_ID']\n",
    "# Imprime o resultado de forma ascendente(do maior para o menor)\n",
    "backlog_st1"
   ]
  },
  {
   "cell_type": "code",
   "execution_count": null,
   "id": "ad63ae74-d38d-4c06-adf8-cd3ce4a4406f",
   "metadata": {},
   "outputs": [],
   "source": [
    "#algoritimo para utilizar no filtro do mes anterior\n",
    "today=datetime.date.today()\n",
    "first = today.replace(day=1)\n",
    "last_month = first - datetime.timedelta(days=1)\n",
    "fil=(last_month.strftime(\"%b/%Y\"))\n",
    "\n",
    "df_last = df[(df[\"CRIACAO_FORMAT\"] == last_month.strftime(\"%b/%Y\"))]\n",
    "\n",
    "backlog_st2 = df_last\n",
    "backlog_st2 = backlog_st2.replace({'REQUEST_STATE': {'Concluído': 'Fechado', 'Cancelado': 'Fechado','Aguardando Execução': 'Backlog', 'Em Execução': 'Em andamento', 'Em Homologação' : 'Pendentes Validação', 'Em Validação' : 'Pendentes Validação', 'E _ Aguardando Times Internos' : 'Pendentes Outros', 'Aberto' :'Backlog', 'E _ Aguardando Demandante' : 'Pendentes Outros' , 'E _ Aguardando Fornecedor':'Pendentes Outros'}})\n",
    "backlog_st2 = backlog_st2[backlog_st2['REQUEST_STATE'].isin(['Fechado'])]\n",
    "# Agrupando as linhas selecionadas por status e contando a quantidade de requisições\n",
    "FechadoCM = backlog_st2.groupby([df_last['CRIACAO_FORMAT'], 'REQUEST_STATE']).count()['REFERENCE_ID']\n",
    "# Imprime o resultado de forma ascendente(do maior para o menor)\n",
    "FechadoCM"
   ]
  },
  {
   "cell_type": "code",
   "execution_count": null,
   "id": "98b49463-368f-4098-9089-b31e3d99c574",
   "metadata": {},
   "outputs": [],
   "source": [
    "Taxa_atendimento= FechadoCM/abertoM\n",
    "Taxa_atendimento"
   ]
  },
  {
   "cell_type": "code",
   "execution_count": null,
   "id": "6223a420-27f8-46f6-96a8-55549268f258",
   "metadata": {},
   "outputs": [],
   "source": [
    "filename = 'Historico_incidentes.xlsx'\n",
    "writer = pd.ExcelWriter(filename, engine='xlsxwriter')\n",
    "\n",
    "# In[3]:\n",
    "wb = Workbook()\n",
    "ws = wb.active\n",
    "# Cria DataFrame para o valor de quant_abertoT\n",
    "quant_abertoT_df = pd.DataFrame({'Total de incidentes abertos': [quant_abertoT]})\n",
    "# Salva o DataFrame em uma planilha no arquivo Excel\n",
    "quant_abertoT_df.to_excel(writer, sheet_name='Total de incidentes abertos')\n",
    "fechadoT.to_excel(writer, sheet_name='Total de incidentes fechados')\n",
    "abertoM.to_excel(writer, sheet_name='abertos no mes')\n",
    "fechadoM.to_excel(writer, sheet_name='fechados no mes')\n",
    "Backlog1.to_excel(writer, sheet_name='backlog no mes')\n",
    "backlog_st0.to_excel(writer, sheet_name='backlog st agrp')\n",
    "backlog_st1.to_excel(writer, sheet_name='backlog st detal')\n",
    "FechadoCM.to_excel(writer, sheet_name='fechados do mes')\n",
    "Taxa_atendimento.to_excel(writer, sheet_name='taxa de atnedimento')\n",
    "\n",
    "writer.save()\n",
    "print(f\"Os dados foram salvos em {filename} com sucesso!\")"
   ]
  }
 ],
 "metadata": {
  "kernelspec": {
   "display_name": "Python 3 (ipykernel)",
   "language": "python",
   "name": "python3"
  },
  "language_info": {
   "codemirror_mode": {
    "name": "ipython",
    "version": 3
   },
   "file_extension": ".py",
   "mimetype": "text/x-python",
   "name": "python",
   "nbconvert_exporter": "python",
   "pygments_lexer": "ipython3",
   "version": "3.10.5"
  }
 },
 "nbformat": 4,
 "nbformat_minor": 5
}
