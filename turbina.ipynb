{
 "cells": [
  {
   "cell_type": "code",
   "execution_count": null,
   "id": "aafc806d-af84-4ca0-a3c2-e7dc4774d19d",
   "metadata": {},
   "outputs": [],
   "source": [
    "#biblioteca utilizadas para suportar scripts escritos abaixo\n",
    "import datetime\n",
    "import re\n",
    "import locale\n",
    "import pyodbc \n",
    "import pandas as pd\n",
    "import numpy as np\n",
    "import matplotlib.pyplot as plt\n",
    "from scipy.interpolate import make_interp_spline, BSpline\n",
    "import seaborn as sns\n",
    "from matplotlib.dates import DateFormatter\n",
    "from matplotlib.ticker import AutoMinorLocator\n",
    "import sqlalchemy as sa\n",
    "from openpyxl import Workbook\n",
    "from openpyxl.utils.dataframe import dataframe_to_rows\n"
   ]
  },
  {
   "cell_type": "code",
   "execution_count": null,
   "id": "2521d1e7-a8ad-4d73-8f36-75b08d3969d6",
   "metadata": {},
   "outputs": [],
   "source": [
    "# Para funcionar o pyodbc é necessário adicionar a seguinte linha no registro\n",
    "\n",
    "cnxn = pyodbc.connect('Driver={SQL Server};'\n",
    "                      'Server=***;'\n",
    "                      'Database=***;'\n",
    "                      'UID=***;'\n",
    "                      'PWD=***;')\n",
    "                      "
   ]
  },
  {
   "cell_type": "code",
   "execution_count": null,
   "id": "d2a19ca0-f4da-4d32-b8ac-866197b34fc5",
   "metadata": {},
   "outputs": [],
   "source": [
    "# Verificar a conexão\n",
    "cursor = cnxn.cursor()\n",
    "cursor.execute(\"SELECT @@version;\") \n",
    "row = cursor.fetchone() \n",
    "while row: \n",
    "    print(row[0])\n",
    "    row = cursor.fetchone()"
   ]
  },
  {
   "cell_type": "code",
   "execution_count": null,
   "id": "10179ddf-3418-46c6-9d11-1f7e03181991",
   "metadata": {},
   "outputs": [],
   "source": [
    "# Puxando os dados direto do banco do jazz atraves da query a baixo\n",
    "df = pd.read_sql_query(\"SELECT DISTINCT T1.REFERENCE_ID, T1.CREATION_DATE, T1.RESOLVED_DATE, T2_1.LITERAL_NAME AS LITERAL_NAME, T1.REQUEST_STATE, T1.REQUEST_SEVERITY, T1.TEAM_NAME, FORMAT(CREATION_DATE,'MMM/yyyy')as CRIACAO_FORMAT, FORMAT(RESOLVED_DATE,'MMM/yyyy')as FINAL_FORMAT FROM RIDW.VW_REQUEST T1 LEFT OUTER JOIN RICALM.VW_RQST_STRING_EXT T2 ON T2.REQUEST_ID=T1.REQUEST_ID AND T2.NAME='Sistema' LEFT OUTER JOIN RICALM.REQUEST_ATTRDEF T2_2 ON T2_2.REQUEST_TYPE_ID=T1.REQUEST_TYPE_ID AND T2_2.NAME=T2.NAME LEFT OUTER JOIN RICALM.VW_RQST_ENUMERATION T2_1 ON T2_1.EXTERNAL_ID=T2.VAL AND T2_1.PROJECT_ID=T1.PROJECT_ID AND T2_1.ENUMERATION_NAME=T2_2.DATATYPE WHERE T1.PROJECT_ID = 415  AND (T1.REQUEST_TYPE = 'Incidente' AND T1.CREATION_DATE >= '2022-04-01' ) AND T1.ISSOFTDELETED = 0 AND (T1.REQUEST_ID <> -1 AND T1.REQUEST_ID IS NOT NULL)\", cnxn)\n",
    "df.to_excel(\"Dados_Revista.xlsx\")"
   ]
  },
  {
   "cell_type": "code",
   "execution_count": null,
   "id": "50c27ec4-6d7f-44d2-9d11-7156c66aa2ee",
   "metadata": {},
   "outputs": [],
   "source": [
    "#algoritimo para utilizar no filtro do mes anterior\n",
    "today=datetime.date.today()\n",
    "first = today.replace(day=1)\n",
    "last_month = first - datetime.timedelta(days=1)\n",
    "fil=(last_month.strftime(\"%b/%Y\"))"
   ]
  },
  {
   "cell_type": "code",
   "execution_count": null,
   "id": "b8d53553-2cee-46a3-84eb-0077e7f46ce6",
   "metadata": {},
   "outputs": [],
   "source": [
    "#substituo os valores na coluna dos sistemas\n",
    "#df = df.replace({'LITERAL_NAME': {'(LS0073)SAP - FI-AP': '(LS0069)SAP', '(LS0078)SAP - FI-TV': '(LS0069)SAP', '(LS0077)SAP - FI-CA': '(LS0069)SAP', '(LS0075)SAP - MM': '(LS0069)SAP', '(LS0068)Interface SIAS - SAP' : '(LS0069)SAP', '(CB)SIAS - Cobrança de Prêmios' : '(LS0389)SIAS', '(VG)SIAS - Vida em Grupo' : '(LS0389)SIAS', '(VA)SIAS - Vida Azul' : '(LS0389)SIAS' , '(SI)SIAS - Sinistro':'(LS0389)SIAS', '(BI)SIAS - Bilhete' : '(LS0389)SIAS',  '(EM)SIAS - Emissão' :'(LS0389)SIAS', '(AU)SIAS - Automóvel' : '(LS0389)SIAS',  '(CO)SIAS - Comissões' :'(LS0389)SIAS', '(GV)SIAS - Geral Vida' : '(LS0389)SIAS', '(LS0209)SIAS - Vida Empresarial' : '(LS0389)SIAS', '(HB)SIAS - Habitacional' : '(LS0389)SIAS', '(GL)SIAS - Concentrador Contábil - GL' : '(LS0389)SIAS', '(MR)SIAS - Multirisco': '(LS0389)SIAS', '(LS0215)SIAS - Vida Preferencial' : '(LS0389)SIAS', '(CA)SIAS - Co-Seguro Aceita' : '(LS0389)SIAS' , '(RE)SIAS - Resseguro' : '(LS0389)SIAS', '(RG)SIAS - Registros Oficiais (Gerais)': '(LS0389)SIAS', '(LS0098b)Réplica SIAS':'(LS0389)SIAS', '(AC)SIAS - Administração de Co-seguro': '(LS0389)SIAS', '(LT)SIAS - Lotérico':'(LS0389)SIAS', '(SX)SMART Habitacional Web' : '(SX)SMART Habitacional' }})\n",
    "#print(df)\n",
    "#print(type(df))"
   ]
  },
  {
   "cell_type": "code",
   "execution_count": null,
   "id": "d8632b10-33d0-4f02-999d-285c6d630e9f",
   "metadata": {},
   "outputs": [],
   "source": [
    "# Quantidade total de incidentes abertos desde 01/04/2022 // Indicador 0\n",
    "quant_abertoT=df[df.columns[1]].count()\n",
    "\n",
    "# Imprimindo o resultado\n",
    "quant_abertoT"
   ]
  },
  {
   "cell_type": "code",
   "execution_count": null,
   "id": "d0080065-db69-45a6-b710-2ad4e3294f89",
   "metadata": {},
   "outputs": [],
   "source": [
    "df_last = df[(df[\"CRIACAO_FORMAT\"] == last_month.strftime(\"%b/%Y\"))]\n",
    "# Agrupa as linhas da coluna [REFERENCE_ID] por mês e coluna [REQUEST_SEVERITY] utilizando a coluna [CREATION_DATE] // Indicador 2\n",
    "area = df_last.groupby([df['CRIACAO_FORMAT'], 'REQUEST_SEVERITY']).count()['REFERENCE_ID']\n",
    "\n",
    "# Imprimindo o resultado\n",
    "area = area.fillna(0)\n",
    "area"
   ]
  },
  {
   "cell_type": "code",
   "execution_count": null,
   "id": "007c09af-95fd-408e-b580-f7a2b59d4d34",
   "metadata": {},
   "outputs": [],
   "source": [
    "# substitui os status detalhados por status simples para agregar os dados e posteriormente imprimir a quantidade agregada // importante para o indicador 1\n",
    "df2 = df.replace({'REQUEST_STATE': {'Concluído': 'Fechado', 'Cancelado': 'Fechado', 'Aguardando Execução': 'Backlog', 'Em Execução': 'Backlog', 'Em Homologação' : 'Backlog', 'E _ Aguardando Times Internos' : 'Backlog', 'Aberto' :'Backlog', 'E _ Aguardando Demandante' : 'Backlog' , 'A _ Aguardando Demandante' : 'Backlog', 'E _ Aguardando Fornecedor':'Backlog'}}).copy()"
   ]
  },
  {
   "cell_type": "code",
   "execution_count": null,
   "id": "78d362de-d11c-4a6c-94c3-3484608fa351",
   "metadata": {},
   "outputs": [],
   "source": [
    "df_last = df[(df[\"CRIACAO_FORMAT\"] == last_month.strftime(\"%b/%Y\"))]\n",
    "# Agrupa as linhas da coluna [REFERENCE_ID] por mês utilizando a coluna [CREATION_DATE] demonstrando a quantidade de incidentes abertos por mes// Indicador 1\n",
    "abertoM = df_last.groupby(df['CRIACAO_FORMAT'])['REFERENCE_ID'].count()\n",
    "\n",
    "# Imprimindo o resultado\n",
    "abertoM"
   ]
  },
  {
   "cell_type": "code",
   "execution_count": null,
   "id": "a44e6e75-7479-40bb-9819-38656df7be15",
   "metadata": {},
   "outputs": [],
   "source": [
    "df_last = df[(df[\"FINAL_FORMAT\"] == last_month.strftime(\"%b/%Y\"))]\n",
    "# Agrupa as linhas da coluna [REFERENCE_ID] por mês utilizando a coluna [CREATION_DATE] demonstrando a quantidade de incidentes abertos por mes// Indicador 1\n",
    "fechadoM = df_last.groupby(df['FINAL_FORMAT'])['REFERENCE_ID'].count()\n",
    "\n",
    "# Imprimindo o resultado\n",
    "fechadoM"
   ]
  },
  {
   "cell_type": "code",
   "execution_count": null,
   "id": "d6582961-d04f-4365-bd2c-37261a507051",
   "metadata": {},
   "outputs": [],
   "source": [
    "# Agrupa as linhas da coluna [REFERENCE_ID] por backlog/ Indicador 1\n",
    "opcl=df2\n",
    "Backlog = opcl[opcl['REQUEST_STATE'].isin(['Backlog'])]\n",
    "\n",
    "Backlog1 = Backlog.groupby(['REQUEST_STATE']).count()['REFERENCE_ID']\n",
    "\n",
    "# Imprimindo o resultado\n",
    "Backlog1"
   ]
  },
  {
   "cell_type": "code",
   "execution_count": null,
   "id": "f9e41710-106a-4784-a997-08317020a32b",
   "metadata": {},
   "outputs": [],
   "source": [
    "df_last1 = df[(df[\"FINAL_FORMAT\"] == last_month.strftime(\"%b/%Y\"))]\n",
    "#filtra as linhas que tem o status cancelados\n",
    "cancelados = df_last1[df_last1['REQUEST_STATE'].isin(['Cancelado'])]\n",
    "\n",
    "#imprime o agrupamento das linhas da coluna [REFERENCE_ID] por mes utilizando a coluna [FINAL_FORMAT] demonstrando a quantidade de incidentes cancelados // Indicador 3\n",
    "cancelados = cancelados.groupby([df_last1['FINAL_FORMAT'], 'REQUEST_STATE']).count()['REFERENCE_ID']\n",
    "\n",
    "cancelados"
   ]
  },
  {
   "cell_type": "code",
   "execution_count": null,
   "id": "60c9f8e7-faa4-452d-b236-7a0508414720",
   "metadata": {},
   "outputs": [],
   "source": [
    "\n",
    "\n",
    "df_last = df\n",
    "sis_ab =  df_last[(df_last[\"LITERAL_NAME\"] == \"(LS0069)SAP\") | (df_last[\"LITERAL_NAME\"] == \"(SZ)SMART Prestamista\") | (df_last[\"LITERAL_NAME\"] == \"(LS0270)Salesforce\") | (df_last[\"LITERAL_NAME\"] == \"(LS0305)I4Pro (Previsul)\") | (df_last[\"LITERAL_NAME\"] == \"(LS0105)Soluções de Infraestrutura (Aplicações de Mercado)\") | (df_last[\"LITERAL_NAME\"] == \"(LS0064)NEWCON\") | (df_last[\"LITERAL_NAME\"] == \"(LS0389)SIAS\") | (df_last[\"LITERAL_NAME\"] == \"(LS0289)CCM 2.0 - Inspire Quadient\") | (df_last[\"LITERAL_NAME\"] == \"(LS0671)IBM Sterling B2B Integrator\")]\n",
    "# Quantidade total de incidentes abertos desde 01/04/2022 // Indicador 4\n",
    "quant_abertoT=sis_ab[sis_ab.columns[1]].count()\n",
    "# Imprimindo o resultado\n",
    "quant_abertoT"
   ]
  },
  {
   "cell_type": "code",
   "execution_count": null,
   "id": "815342d8-7240-4821-9c9d-69bda2ed4835",
   "metadata": {},
   "outputs": [],
   "source": [
    "df_last = df[(df[\"CRIACAO_FORMAT\"] == last_month.strftime(\"%b/%Y\"))]\n",
    "# Selecionando as linhas em que a coluna 'LITERAL_NAME' é igual aos sistemas no indicador 4 // Indicador 4\n",
    "sis_ab =  df_last[(df_last[\"LITERAL_NAME\"] == \"(LS0069)SAP\") | (df_last[\"LITERAL_NAME\"] == \"(SZ)SMART Prestamista\") | (df_last[\"LITERAL_NAME\"] == \"(LS0270)Salesforce\") | (df_last[\"LITERAL_NAME\"] == \"(LS0305)I4Pro (Previsul)\") | (df_last[\"LITERAL_NAME\"] == \"(LS0105)Soluções de Infraestrutura (Aplicações de Mercado)\") | (df_last[\"LITERAL_NAME\"] == \"(LS0064)NEWCON\") | (df_last[\"LITERAL_NAME\"] == \"(LS0389)SIAS\") | (df_last[\"LITERAL_NAME\"] == \"(LS0289)CCM 2.0 - Inspire Quadient\") | (df_last[\"LITERAL_NAME\"] == \"(LS0671)IBM Sterling B2B Integrator\")]\n",
    "\n",
    "# Agrupando as linhas selecionadas por sistema e contando a quantidade de requisições abertas para cada sistema por mes\n",
    "sis_ab = sis_ab.groupby(['LITERAL_NAME', 'CRIACAO_FORMAT']).count()['REFERENCE_ID']\n",
    "\n",
    "# Imprime o resultado de forma ascendente(do maior para o menor)\n",
    "sis_ab#.sort_values(ascending=False)"
   ]
  },
  {
   "cell_type": "code",
   "execution_count": null,
   "id": "24e338ef-711f-436f-8c0d-37f99eda9852",
   "metadata": {},
   "outputs": [],
   "source": [
    "df_last1 = df2\n",
    "sis_fc =  df_last1[(df_last1[\"LITERAL_NAME\"] == \"(LS0069)SAP\") | (df_last1[\"LITERAL_NAME\"] == \"(SZ)SMART Prestamista\") | (df_last1[\"LITERAL_NAME\"] == \"(LS0270)Salesforce\") | (df_last1[\"LITERAL_NAME\"] == \"(LS0305)I4Pro (Previsul)\") | (df_last1[\"LITERAL_NAME\"] == \"(LS0105)Soluções de Infraestrutura (Aplicações de Mercado)\") | (df_last1[\"LITERAL_NAME\"] == \"(LS0064)NEWCON\") | (df_last1[\"LITERAL_NAME\"] == \"(LS0389)SIAS\") | (df_last1[\"LITERAL_NAME\"] == \"(LS0289)CCM 2.0 - Inspire Quadient\") | (df_last1[\"LITERAL_NAME\"] == \"(LS0671)IBM Sterling B2B Integrator\")]\n",
    "sis_fc = df_last1[df_last1['REQUEST_STATE'].isin(['Fechado'])]\n",
    "# Agrupando as linhas selecionadas por sistema e contando a quantidade de requisições fechadas para cada sistema por mes\n",
    "sis_fc = sis_fc.groupby(['REQUEST_STATE']).count()['REFERENCE_ID']\n",
    "\n",
    "sis_fc"
   ]
  },
  {
   "cell_type": "code",
   "execution_count": null,
   "id": "99c6d0d5-9739-4568-998b-dfd3ddd4987a",
   "metadata": {},
   "outputs": [],
   "source": [
    "df_last1 = df[(df[\"FINAL_FORMAT\"] == last_month.strftime(\"%b/%Y\"))]\n",
    "# Selecionando as linhas em que a coluna 'LITERAL_NAME' é igual aos sistemas no indicador 5 // Indicador 5\n",
    "sis_fc =  df_last1[(df_last1[\"LITERAL_NAME\"] == \"(LS0069)SAP\") | (df_last1[\"LITERAL_NAME\"] == \"(SZ)SMART Prestamista\") | (df_last1[\"LITERAL_NAME\"] == \"(LS0270)Salesforce\") | (df_last1[\"LITERAL_NAME\"] == \"(LS0305)I4Pro (Previsul)\") | (df_last1[\"LITERAL_NAME\"] == \"(LS0105)Soluções de Infraestrutura (Aplicações de Mercado)\") | (df_last1[\"LITERAL_NAME\"] == \"(LS0064)NEWCON\") | (df_last1[\"LITERAL_NAME\"] == \"(LS0389)SIAS\") | (df_last1[\"LITERAL_NAME\"] == \"(LS0289)CCM 2.0 - Inspire Quadient\") | (df_last1[\"LITERAL_NAME\"] == \"(LS0671)IBM Sterling B2B Integrator\")]\n",
    "\n",
    "# Agrupando as linhas selecionadas por sistema e contando a quantidade de requisições fechadas para cada sistema por mes\n",
    "sis_fc = sis_fc.groupby(['LITERAL_NAME', 'FINAL_FORMAT']).count()['REFERENCE_ID']\n",
    "\n",
    "sis_fc"
   ]
  },
  {
   "cell_type": "code",
   "execution_count": null,
   "id": "0d19f6ed-bbc7-4117-a32d-8690a75bfac9",
   "metadata": {},
   "outputs": [],
   "source": [
    "#algoritimo para utilizar no filtro do mes anterior\n",
    "today=datetime.date.today()\n",
    "first = today.replace(day=1)\n",
    "last_month = first - datetime.timedelta(days=1)\n",
    "fil=(last_month.strftime(\"%b/%Y\"))"
   ]
  },
  {
   "cell_type": "code",
   "execution_count": null,
   "id": "f3745e99-4dd7-44fd-80d6-89d265b1b94c",
   "metadata": {},
   "outputs": [],
   "source": [
    "#algoritimo para utilizar no filtro do mes atual\n",
    "#today=datetime.date.today()\n",
    "#first = today\n",
    "#last_month = first \n",
    "#fil=(last_month.strftime(\"%b/%Y\"))"
   ]
  },
  {
   "cell_type": "code",
   "execution_count": null,
   "id": "19873bfa-cc61-444d-a776-2354d20f8379",
   "metadata": {},
   "outputs": [],
   "source": [
    "\n",
    "df_last = df[(df[\"CRIACAO_FORMAT\"] == last_month.strftime(\"%b/%Y\"))]\n",
    "# Agrupa as linhas da coluna [REFERENCE_ID] por mês e coluna [LITERAL_NAME] utilizando a coluna [CREATION_DATE]\n",
    "sis = df_last.groupby([df_last['CRIACAO_FORMAT'], 'LITERAL_NAME']).count()['REFERENCE_ID']\n",
    "\n",
    "# Ordena o resultado de forma descendente\n",
    "sis = sis.sort_values(ascending=False)\n",
    "\n",
    "# Pega os 3 principais sistemas\n",
    "top3 = sis.nlargest(6)\n",
    "\n",
    "# Pega os demais sistemas\n",
    "others = sis.nsmallest(len(sis)-6)\n",
    "\n",
    "# Some os demais sistemas\n",
    "others_sum = others.sum()\n",
    "# Adiciona os demais sistemas ao top3\n",
    "top31 = top3.append(pd.Series({\"Outros\": others_sum}, name='Outros'))\n",
    "\n",
    "top31\n"
   ]
  },
  {
   "cell_type": "code",
   "execution_count": null,
   "id": "0d409862-e1dc-4f31-9bf9-8441c2af4be2",
   "metadata": {},
   "outputs": [],
   "source": [
    "\n",
    "dft3 = df[(df[\"CRIACAO_FORMAT\"] == last_month.strftime(\"%b/%Y\"))]\n",
    "# Agrupa as linhas da coluna [REFERENCE_ID] por mês e coluna [LITERAL_NAME] utilizando a coluna [CREATION_DATE]\n",
    "sis = dft3.groupby([dft3['CRIACAO_FORMAT'], 'TEAM_NAME']).count()['REFERENCE_ID']\n",
    "\n",
    "# Ordena o resultado de forma descendente\n",
    "sis = sis.sort_values(ascending=False)\n",
    "\n",
    "# Pega os 3 principais sistemas\n",
    "top3 = sis.nlargest(6)\n",
    "\n",
    "# Pega os demais sistemas\n",
    "others = sis.nsmallest(len(sis)-6)\n",
    "\n",
    "# Some os demais sistemas\n",
    "others_sum = others.sum()\n",
    "# Adiciona os demais sistemas ao top3\n",
    "top32 = top3.append(pd.Series({\"Outros\": others_sum}, name='Outros'))\n",
    "\n",
    "top32\n"
   ]
  },
  {
   "cell_type": "code",
   "execution_count": null,
   "id": "9d8ac18e-a943-4a8e-8c06-f268c883f79a",
   "metadata": {},
   "outputs": [],
   "source": [
    "\n",
    "dft2 = df[(df[\"FINAL_FORMAT\"] == last_month.strftime(\"%b/%Y\"))]\n",
    "# Agrupa as linhas da coluna [REFERENCE_ID] por mês e coluna [LITERAL_NAME] utilizando a coluna [FINAL_FORMAT]\n",
    "sis = dft2.groupby([dft2['FINAL_FORMAT'], 'LITERAL_NAME']).count()['REFERENCE_ID']\n",
    "\n",
    "# Ordena o resultado de forma descendente\n",
    "sis = sis.sort_values(ascending=False)\n",
    "\n",
    "# Pega os 3 principais sistemas\n",
    "top3 = sis.nlargest(6)\n",
    "\n",
    "# Pega os demais sistemas\n",
    "others = sis.nsmallest(len(sis)-6)\n",
    "\n",
    "# Some os demais sistemas\n",
    "others_sum = others.sum()\n",
    "# Adiciona os demais sistemas ao top3\n",
    "top33 = top3.append(pd.Series({\"Outros\": others_sum}, name='Outros'))\n",
    "\n",
    "top33\n"
   ]
  },
  {
   "cell_type": "code",
   "execution_count": null,
   "id": "fd634e29-25a3-4c5f-950a-fcb7dacbeb69",
   "metadata": {},
   "outputs": [],
   "source": [
    "dft = df[(df[\"FINAL_FORMAT\"] == last_month.strftime(\"%b/%Y\"))]\n",
    "# Agrupa as linhas da coluna [REFERENCE_ID] por mês e coluna [LITERAL_NAME] utilizando a coluna [CREATION_DATE]\n",
    "sis = dft.groupby([dft['FINAL_FORMAT'], 'TEAM_NAME']).count()['REFERENCE_ID']\n",
    "\n",
    "# Ordena o resultado de forma descendente\n",
    "sis = sis.sort_values(ascending=False)\n",
    "\n",
    "# Pega os 3 principais sistemas\n",
    "top3 = sis.nlargest(6)\n",
    "\n",
    "# Pega os demais sistemas\n",
    "others = sis.nsmallest(len(sis)-6)\n",
    "\n",
    "# Some os demais sistemas\n",
    "others_sum = others.sum()\n",
    "# Adiciona os demais sistemas ao top3\n",
    "top34 = top3.append(pd.Series({\"Outros\": others_sum}, name='Outros'))\n",
    "\n",
    "top34\n"
   ]
  },
  {
   "cell_type": "code",
   "execution_count": null,
   "id": "7a7f5222-fca3-427b-ba91-e173254467d6",
   "metadata": {},
   "outputs": [],
   "source": [
    "# Selecionando as linhas em que a coluna 'REQUEST_STATE' é diferente de concluido e cancelado demonstrando os incidentes que ainda estão abertos // Indicador 10\n",
    "backlog_st = df2[(df2[\"REQUEST_STATE\"] == \"Backlog\")]\n",
    "\n",
    "# Agrupando as linhas selecionadas por sistema e contando a quantidade de requisições para cada sistema\n",
    "backlog_st = backlog_st.groupby('TEAM_NAME')['REFERENCE_ID'].count()\n",
    "\n",
    "# Imprime o resultado de forma ascendente(do maior para o menor)\n",
    "backlog_st.sort_values(ascending=False)\n",
    "\n",
    "\n",
    "# Pega os 3 principais sistemas\n",
    "top3 = backlog_st.nlargest(6)\n",
    "\n",
    "# Pega os demais sistemas\n",
    "others = backlog_st.nsmallest(len(backlog_st)-6)\n",
    "\n",
    "# Some os demais sistemas\n",
    "others_sum = others.sum()\n",
    "# Adiciona os demais sistemas ao top3\n",
    "top35 = top3.append(pd.Series({\"Outros\": others_sum}, name='Outros'))\n",
    "\n",
    "top35\n",
    "\n"
   ]
  },
  {
   "cell_type": "code",
   "execution_count": null,
   "id": "7b80520b-a9a3-4ca8-b96b-76958dd857d5",
   "metadata": {},
   "outputs": [],
   "source": [
    "# Selecionando as linhas em que a coluna 'REQUEST_STATE' é diferente de concluido e cancelado demonstrando os incidentes que ainda estão abertos // Indicador 11\n",
    "sisbacklog = df2[(df2[\"REQUEST_STATE\"] == \"Backlog\")]\n",
    "\n",
    "# Agrupando as linhas selecionadas por sistema e contando a quantidade de requisições para cada sistema\n",
    "sisbacklog = sisbacklog.groupby('LITERAL_NAME')['REFERENCE_ID'].count()\n",
    "\n",
    "# Imprime o resultado de forma ascendente(do maior para o menor)\n",
    "sisbacklog.sort_values(ascending=False)\n",
    "\n",
    "# Ordena o resultado de forma descendente\n",
    "sisbacklog = sisbacklog.sort_values(ascending=False)\n",
    "\n",
    "# Pega os 3 principais sistemas\n",
    "top3 = sisbacklog.nlargest(6)\n",
    "\n",
    "# Pega os demais sistemas\n",
    "others = sisbacklog.nsmallest(len(sis)-6)\n",
    "\n",
    "# Some os demais sistemas\n",
    "others_sum = others.sum()\n",
    "# Adiciona os demais sistemas ao top3\n",
    "top36 = top3.append(pd.Series({\"Outros\": others_sum}, name='Outros'))\n",
    "\n",
    "top36\n"
   ]
  },
  {
   "cell_type": "code",
   "execution_count": null,
   "id": "f1005048-2b49-4159-ad5f-a5d125435e3f",
   "metadata": {},
   "outputs": [],
   "source": [
    "# Selecionando as linhas em que a coluna 'REQUEST_STATE' é diferente de concluido e cancelado demonstrando os incidentes que ainda estão abertos // Indicador 12\n",
    "backlog_st = df[(df[\"REQUEST_STATE\"] != \"Concluído\") & (df[\"REQUEST_STATE\"] != \"Cancelado\")]\n",
    "backlog_st = backlog_st.replace({'REQUEST_STATE': {'Aguardando Execução': 'Aguardando Execução', 'Em Execução': 'Em Execução', 'Em Homologação' : 'Em Execução', 'E _ Aguardando Times Internos' : 'Pendentes Outros', 'Aberto' :'Em Execução', 'E _ Aguardando Demandante' : 'Pendentes Outros' , 'E _ Aguardando Fornecedor':'Pendentes Outros'}})\n",
    "\n",
    "# Agrupando as linhas selecionadas por status e contando a quantidade de requisições\n",
    "backlog_st0 = backlog_st.groupby('REQUEST_STATE')['REFERENCE_ID'].count()\n",
    "\n",
    "# Imprime o resultado de forma ascendente(do maior para o menor)\n",
    "backlog_st0"
   ]
  },
  {
   "cell_type": "code",
   "execution_count": null,
   "id": "3d5c050b-fe72-4cf6-9948-1bf5f83b6567",
   "metadata": {},
   "outputs": [],
   "source": [
    "# Selecionando as linhas em que a coluna 'REQUEST_STATE' é diferente de concluido e cancelado demonstrando os incidentes que ainda estão abertos // Indicador 13\n",
    "backlog_st1 = df[(df[\"REQUEST_STATE\"] != \"Concluído\") & (df[\"REQUEST_STATE\"] != \"Cancelado\")]\n",
    "\n",
    "\n",
    "# Agrupando as linhas selecionadas por status e contando a quantidade de requisições\n",
    "backlog_st1 = backlog_st1.groupby('REQUEST_STATE')['REFERENCE_ID'].count()\n",
    "\n",
    "# Imprime o resultado de forma ascendente(do maior para o menor)\n",
    "print(backlog_st1.sort_values(ascending=False))"
   ]
  },
  {
   "cell_type": "code",
   "execution_count": null,
   "id": "e1dc9302-df8f-4b6b-a1c7-302530b26a10",
   "metadata": {},
   "outputs": [],
   "source": [
    "filename = 'incidentes.xlsx'\n",
    "writer = pd.ExcelWriter(filename, engine='xlsxwriter')\n",
    "\n",
    "# In[3]:\n",
    "wb = Workbook()\n",
    "ws = wb.active\n",
    "# Cria DataFrame para o valor de quant_abertoT\n",
    "quant_abertoT_df = pd.DataFrame({'Total de incidentes abertos': [quant_abertoT]})\n",
    "# Salva o DataFrame em uma planilha no arquivo Excel\n",
    "quant_abertoT_df.to_excel(writer, sheet_name='Total de incidentes abertos')\n",
    "area.to_excel(writer, sheet_name='abertos severidade no mes')\n",
    "abertoM.to_excel(writer, sheet_name='bertos no mes')\n",
    "Backlog1.to_excel(writer, sheet_name='backlog no mes')\n",
    "cancelados.to_excel(writer, sheet_name='cancelados no mes')\n",
    "sis_ab.to_excel(writer, sheet_name='Dados detl mes sistemas AB')\n",
    "sis_fc.to_excel(writer, sheet_name='Dados detl mes sistemas FC')\n",
    "top31.to_excel(writer, sheet_name='Aberto -  MEs Sistema')\n",
    "top32.to_excel(writer, sheet_name='Aberto -  MEs Gerencia')\n",
    "top33.to_excel(writer, sheet_name='Fechado - MEs Sistema')\n",
    "top34.to_excel(writer, sheet_name='Fechado - MEs Gerencia')\n",
    "top35.to_excel(writer, sheet_name='Blg Acumulado - MEs Gerencia')\n",
    "top36.to_excel(writer, sheet_name='Blg Acumulado - MEs Sistema')\n",
    "backlog_st0.to_excel(writer, sheet_name='Blg Acumulado - MEs Status agrp')\n",
    "backlog_st1.to_excel(writer, sheet_name='Blg Acumulado - MEs Status detl')\n",
    "\n",
    "writer.save()\n",
    "print(f\"Os dados foram salvos em {filename} com sucesso!\")"
   ]
  }
 ],
 "metadata": {
  "kernelspec": {
   "display_name": "Python 3 (ipykernel)",
   "language": "python",
   "name": "python3"
  },
  "language_info": {
   "codemirror_mode": {
    "name": "ipython",
    "version": 3
   },
   "file_extension": ".py",
   "mimetype": "text/x-python",
   "name": "python",
   "nbconvert_exporter": "python",
   "pygments_lexer": "ipython3",
   "version": "3.10.5"
  }
 },
 "nbformat": 4,
 "nbformat_minor": 5
}
